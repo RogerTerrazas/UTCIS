{
 "cells": [
  {
   "cell_type": "code",
   "execution_count": 42,
   "metadata": {},
   "outputs": [],
   "source": [
    "import pandas as pd\n",
    "\n",
    "df = pd.read_excel('professors.xlsx') #insert file path\n",
    "\n",
    "#print(df)\n",
    "\n",
    "for index, row in df.iterrows():\n",
    "    if row['CCYYS']=='Invalid':\n",
    "        #print(row['CCYYS'])\n",
    "        #row['CCYYS'] = str(row['Year']) + \"6\"\n",
    "        #print(row['CCYYS'])\n",
    "        newCCYYS = str(row['Year']) + \"6\"\n",
    "        df.at[index,'CCYYS']=newCCYYS\n",
    "        #print(df.loc[index,:])#['CCYYS'] = str(row['Year']) + \"6\"\n",
    "\n",
    "\n",
    "df.query('CCYYS==\"Invalid\"')\n",
    "df.to_excel('professors.xlsx')"
   ]
  },
  {
   "cell_type": "code",
   "execution_count": null,
   "metadata": {},
   "outputs": [],
   "source": []
  }
 ],
 "metadata": {
  "kernelspec": {
   "display_name": "Python 3",
   "language": "python",
   "name": "python3"
  },
  "language_info": {
   "codemirror_mode": {
    "name": "ipython",
    "version": 3
   },
   "file_extension": ".py",
   "mimetype": "text/x-python",
   "name": "python",
   "nbconvert_exporter": "python",
   "pygments_lexer": "ipython3",
   "version": "3.7.4"
  }
 },
 "nbformat": 4,
 "nbformat_minor": 2
}
